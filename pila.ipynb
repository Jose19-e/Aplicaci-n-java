{
  "nbformat": 4,
  "nbformat_minor": 0,
  "metadata": {
    "colab": {
      "name": "pila",
      "provenance": [],
      "collapsed_sections": [],
      "authorship_tag": "ABX9TyO43BnuCYAzd+x5Qv2MHsGV",
      "include_colab_link": true
    },
    "kernelspec": {
      "name": "python3",
      "display_name": "Python 3"
    },
    "language_info": {
      "name": "python"
    }
  },
  "cells": [
    {
      "cell_type": "markdown",
      "metadata": {
        "id": "view-in-github",
        "colab_type": "text"
      },
      "source": [
        "<a href=\"https://colab.research.google.com/github/Jose19-e/Aplicaci-n-java/blob/master/pila.ipynb\" target=\"_parent\"><img src=\"https://colab.research.google.com/assets/colab-badge.svg\" alt=\"Open In Colab\"/></a>"
      ]
    },
    {
      "cell_type": "code",
      "metadata": {
        "id": "d0qAgKDyZ4OZ"
      },
      "source": [
        "class StackADT:\n",
        "    def __init__( self  ):\n",
        "        self.data = list()\n",
        "        self.tope = 0\n",
        "\n",
        "    def is_empty( self ):\n",
        "        return self.tope == 0\n",
        "\n",
        "    def length( self ):\n",
        "        return self.tope\n",
        "\n",
        "    def pop( self ):\n",
        "        if not self.is_empty():\n",
        "            return self.data.pop()\n",
        "        self.tope -= 1    \n",
        "    \n",
        "    def peek( self ):\n",
        "        return self.data[ self.tope - 1 ]\n",
        "    \n",
        "    def push( self , value ):\n",
        "        self.data.append( value )\n",
        "        self.tope +=1\n",
        "\n",
        "    def to_string( self ):\n",
        "      print(\"Estado de la pila es: \")\n",
        "      for elem in self.data[ : :-1]:\n",
        "          print(f\"| { elem } |\")"
      ],
      "execution_count": null,
      "outputs": []
    },
    {
      "cell_type": "code",
      "metadata": {
        "id": "oECXk9kuZ92R"
      },
      "source": [
        "pila = StackADT()\n",
        "pila.push(10)\n",
        "pila.push(20)\n",
        "pila.push(30)\n",
        "pila.to_string()\n",
        "print(\"llamada a peek\", pila.peek())\n",
        "print(\"llamada a pop \", pila.pop())\n",
        "pila.to_string()\n",
        "\n",
        "print(f\"El número de elementos es {pila.length()}\")\n",
        "pila.pop()\n",
        "pila.pop()\n",
        "print(f\"El número de elementos es {pila.length()}\")\n",
        "pila.to_string()\n",
        "pila.push(4)\n",
        "pila.to_string()\n",
        "print(f\"El número de elementos es {pila.length()}\")"
      ],
      "execution_count": null,
      "outputs": []
    }
  ]
}